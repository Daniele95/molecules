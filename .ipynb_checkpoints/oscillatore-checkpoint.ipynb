{
 "cells": [
  {
   "cell_type": "code",
   "execution_count": 21,
   "metadata": {},
   "outputs": [
    {
     "data": {
      "text/plain": [
       "Text(0,0.5,'x')"
      ]
     },
     "execution_count": 21,
     "metadata": {},
     "output_type": "execute_result"
    },
    {
     "data": {
      "image/png": "[encoded data removed]",
      "text/plain": [
       "<matplotlib.figure.Figure at 0xb470860>"
      ]
     },
     "metadata": {},
     "output_type": "display_data"
    }
   ],
   "source": [
    "import numpy as np\n",
    "import sdeint\n",
    "import pylab as plt\n",
    "\n",
    "k = 1.\n",
    "g = 1.\n",
    "m = .1\n",
    "D = 1.\n",
    "T = 100.\n",
    "\n",
    "x0 = 1.\n",
    "v0 = 1.\n",
    "\n",
    "A = np.array([[ 0., 1. ],\n",
    "              [ -k/m, -g/m ]])\n",
    "\n",
    "B = np.diag([0., D])\n",
    "\n",
    "t = np.linspace(0.0, T, 10001)\n",
    "X0 = np.array([x0, v0])\n",
    "\n",
    "def F(x, t):\n",
    "    return A.dot(x)\n",
    "\n",
    "def G(x, t):\n",
    "    return B\n",
    "\n",
    "X = sdeint.itoint(F, G, X0, t)\n",
    "\n",
    "plt.plot( t, X[:,0] )\n",
    "plt.xlabel('t')\n",
    "plt.ylabel('x')"
   ]
  },
  {
   "cell_type": "code",
   "execution_count": 3,
   "metadata": {},
   "outputs": [
    {
     "data": {
      "text/plain": [
       "(10001, 2)"
      ]
     },
     "execution_count": 3,
     "metadata": {},
     "output_type": "execute_result"
    }
   ],
   "source": [
    "X.shape"
   ]
  }
 ],
 "metadata": {
  "kernelspec": {
   "display_name": "Python 3",
   "language": "python",
   "name": "python3"
  },
  "language_info": {
   "codemirror_mode": {
    "name": "ipython",
    "version": 3
   },
   "file_extension": ".py",
   "mimetype": "text/x-python",
   "name": "python",
   "nbconvert_exporter": "python",
   "pygments_lexer": "ipython3",
   "version": "3.6.4"
  }
 },
 "nbformat": 4,
 "nbformat_minor": 2
}
